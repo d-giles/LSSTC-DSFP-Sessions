{
 "cells": [
  {
   "cell_type": "markdown",
   "metadata": {},
   "source": [
    "# Building a Supervised Machine Learning Model\n",
    "\n",
    "The objective of this hands-on activity is to create and evaluate a Real-Bogus classifier using ZTF alert data.  We will use the same data from the Day 2 clustering exercise (see [that notebook](https://github.com/LSSTC-DSFP/LSSTC-DSFP-Sessions/blob/master/Session7/Day2/Clustering-Astronomical-Sources.ipynb) to download the data).  \n",
    "\n",
    "1. Load data\n",
    "2. Examine features\n",
    "3. Curate a test and training set\n",
    "4. Train classifiers\n",
    "5. Compare the performance of different learning algorithms\n",
    "\n",
    "#### What's Not Covered\n",
    "\n",
    "There are many topics to cover, and due to time constraints, we cannot cover them all.  Omitted is a discussion of [cross validation](http://scikit-learn.org/stable/modules/cross_validation.html) and [hyperparameter tuning](http://scikit-learn.org/stable/modules/grid_search.html).  I encourage you to click through and read those articles by sklearn."
   ]
  },
  {
   "cell_type": "markdown",
   "metadata": {},
   "source": [
    "### 0a. Imports\n",
    "\n",
    "These are all the imports that will be used in this notebook.  All should be available in the DSFP conda environment."
   ]
  },
  {
   "cell_type": "code",
   "execution_count": 1,
   "metadata": {},
   "outputs": [],
   "source": [
    "import numpy as np\n",
    "from sklearn.preprocessing import Imputer\n",
    "from sklearn.preprocessing import MinMaxScaler, StandardScaler\n",
    "%matplotlib inline\n",
    "import matplotlib.pyplot as plt\n",
    "import pandas as pd\n",
    "import seaborn as sns"
   ]
  },
  {
   "cell_type": "markdown",
   "metadata": {},
   "source": [
    "### 0b. Data Location\n",
    "\n",
    "Please specify paths for the following:"
   ]
  },
  {
   "cell_type": "code",
   "execution_count": 2,
   "metadata": {},
   "outputs": [],
   "source": [
    "F_META = '../Day2/data/dsfp_ztf_meta.npy'\n",
    "F_FEATS = '../Day2/data/dsfp_ztf_feats.npy'\n",
    "D_STAMPS = '../Day2/data/dsfp_ztf_png_stamps'"
   ]
  },
  {
   "cell_type": "markdown",
   "metadata": {},
   "source": [
    "# 1. Load Data\n",
    "\n",
    "Please note that I have made some adjustments to the data.  \n",
    "\n",
    "- I have created a dataframe (feats_df) from feats_np\n",
    "- I have also dropped columns from feats_df.  Some were irrelevant to classification, and some contained a lot of NaNs."
   ]
  },
  {
   "cell_type": "code",
   "execution_count": 10,
   "metadata": {},
   "outputs": [
    {
     "data": {
      "text/plain": [
       "'0.21.0'"
      ]
     },
     "execution_count": 10,
     "metadata": {},
     "output_type": "execute_result"
    }
   ],
   "source": [
    "pd.__version__"
   ]
  },
  {
   "cell_type": "code",
   "execution_count": 3,
   "metadata": {},
   "outputs": [
    {
     "name": "stdout",
     "output_type": "stream",
     "text": [
      "There are 36 columns left.\n",
      "They are: ['diffmaglim', 'magpsf', 'sigmapsf', 'chipsf', 'magap', 'sigmagap', 'distnr', 'magnr', 'sigmagnr', 'chinr', 'sharpnr', 'sky', 'magdiff', 'fwhm', 'classtar', 'mindtoedge', 'magfromlim', 'seeratio', 'aimage', 'bimage', 'aimagerat', 'bimagerat', 'elong', 'nneg', 'nbad', 'ssdistnr', 'ssmagnr', 'sumrat', 'magapbig', 'sigmagapbig', 'ndethist', 'ncovhist', 'jdstarthist', 'jdendhist', 'scorr', 'label']\n"
     ]
    },
    {
     "data": {
      "text/html": [
       "<div>\n",
       "<style scoped>\n",
       "    .dataframe tbody tr th:only-of-type {\n",
       "        vertical-align: middle;\n",
       "    }\n",
       "\n",
       "    .dataframe tbody tr th {\n",
       "        vertical-align: top;\n",
       "    }\n",
       "\n",
       "    .dataframe thead th {\n",
       "        text-align: right;\n",
       "    }\n",
       "</style>\n",
       "<table border=\"1\" class=\"dataframe\">\n",
       "  <thead>\n",
       "    <tr style=\"text-align: right;\">\n",
       "      <th></th>\n",
       "      <th>diffmaglim</th>\n",
       "      <th>magpsf</th>\n",
       "      <th>sigmapsf</th>\n",
       "      <th>chipsf</th>\n",
       "      <th>magap</th>\n",
       "      <th>sigmagap</th>\n",
       "      <th>sky</th>\n",
       "      <th>magdiff</th>\n",
       "      <th>fwhm</th>\n",
       "      <th>mindtoedge</th>\n",
       "      <th>magfromlim</th>\n",
       "      <th>seeratio</th>\n",
       "      <th>aimage</th>\n",
       "      <th>bimage</th>\n",
       "      <th>elong</th>\n",
       "      <th>nneg</th>\n",
       "      <th>nbad</th>\n",
       "      <th>sumrat</th>\n",
       "      <th>label</th>\n",
       "    </tr>\n",
       "  </thead>\n",
       "  <tbody>\n",
       "    <tr>\n",
       "      <th>count</th>\n",
       "      <td>3190.000000</td>\n",
       "      <td>3190.000000</td>\n",
       "      <td>3190.000000</td>\n",
       "      <td>3190.000000</td>\n",
       "      <td>3190.000000</td>\n",
       "      <td>3190.000000</td>\n",
       "      <td>3190.000000</td>\n",
       "      <td>3190.000000</td>\n",
       "      <td>3190.000000</td>\n",
       "      <td>3190.000000</td>\n",
       "      <td>3190.000000</td>\n",
       "      <td>3190.000000</td>\n",
       "      <td>3190.000000</td>\n",
       "      <td>3190.000000</td>\n",
       "      <td>3190.000000</td>\n",
       "      <td>3190.000000</td>\n",
       "      <td>3190.000000</td>\n",
       "      <td>3190.000000</td>\n",
       "      <td>3190.000000</td>\n",
       "    </tr>\n",
       "    <tr>\n",
       "      <th>mean</th>\n",
       "      <td>20.151915</td>\n",
       "      <td>19.038766</td>\n",
       "      <td>0.114721</td>\n",
       "      <td>29.171392</td>\n",
       "      <td>18.882236</td>\n",
       "      <td>0.133377</td>\n",
       "      <td>1.759273</td>\n",
       "      <td>-0.156530</td>\n",
       "      <td>5.762724</td>\n",
       "      <td>535.662895</td>\n",
       "      <td>1.269680</td>\n",
       "      <td>-19.033703</td>\n",
       "      <td>1.447092</td>\n",
       "      <td>1.121355</td>\n",
       "      <td>1.277802</td>\n",
       "      <td>3.702508</td>\n",
       "      <td>0.827586</td>\n",
       "      <td>0.942922</td>\n",
       "      <td>0.263636</td>\n",
       "    </tr>\n",
       "    <tr>\n",
       "      <th>std</th>\n",
       "      <td>0.600403</td>\n",
       "      <td>1.182225</td>\n",
       "      <td>0.059628</td>\n",
       "      <td>184.693580</td>\n",
       "      <td>1.146221</td>\n",
       "      <td>0.090430</td>\n",
       "      <td>11.922192</td>\n",
       "      <td>0.361237</td>\n",
       "      <td>8.082798</td>\n",
       "      <td>358.128782</td>\n",
       "      <td>1.056042</td>\n",
       "      <td>140.283975</td>\n",
       "      <td>1.359441</td>\n",
       "      <td>1.081769</td>\n",
       "      <td>0.233597</td>\n",
       "      <td>2.640393</td>\n",
       "      <td>1.852272</td>\n",
       "      <td>0.093331</td>\n",
       "      <td>0.440673</td>\n",
       "    </tr>\n",
       "    <tr>\n",
       "      <th>min</th>\n",
       "      <td>16.387886</td>\n",
       "      <td>11.861366</td>\n",
       "      <td>0.000729</td>\n",
       "      <td>0.145480</td>\n",
       "      <td>11.904000</td>\n",
       "      <td>0.000900</td>\n",
       "      <td>-62.988770</td>\n",
       "      <td>-0.999049</td>\n",
       "      <td>-0.840000</td>\n",
       "      <td>10.071900</td>\n",
       "      <td>-0.689344</td>\n",
       "      <td>-999.000000</td>\n",
       "      <td>0.289000</td>\n",
       "      <td>0.256000</td>\n",
       "      <td>1.000000</td>\n",
       "      <td>0.000000</td>\n",
       "      <td>0.000000</td>\n",
       "      <td>0.400054</td>\n",
       "      <td>0.000000</td>\n",
       "    </tr>\n",
       "    <tr>\n",
       "      <th>25%</th>\n",
       "      <td>19.816405</td>\n",
       "      <td>18.404491</td>\n",
       "      <td>0.066442</td>\n",
       "      <td>1.752059</td>\n",
       "      <td>18.243625</td>\n",
       "      <td>0.062925</td>\n",
       "      <td>-0.078796</td>\n",
       "      <td>-0.387930</td>\n",
       "      <td>2.080000</td>\n",
       "      <td>233.525776</td>\n",
       "      <td>0.485384</td>\n",
       "      <td>0.392570</td>\n",
       "      <td>0.771250</td>\n",
       "      <td>0.667000</td>\n",
       "      <td>1.096764</td>\n",
       "      <td>2.000000</td>\n",
       "      <td>0.000000</td>\n",
       "      <td>0.921823</td>\n",
       "      <td>0.000000</td>\n",
       "    </tr>\n",
       "    <tr>\n",
       "      <th>50%</th>\n",
       "      <td>20.221339</td>\n",
       "      <td>19.230843</td>\n",
       "      <td>0.111248</td>\n",
       "      <td>3.588183</td>\n",
       "      <td>19.093750</td>\n",
       "      <td>0.121900</td>\n",
       "      <td>0.326771</td>\n",
       "      <td>-0.088569</td>\n",
       "      <td>3.170000</td>\n",
       "      <td>475.807602</td>\n",
       "      <td>1.019777</td>\n",
       "      <td>0.794723</td>\n",
       "      <td>1.018000</td>\n",
       "      <td>0.841000</td>\n",
       "      <td>1.201702</td>\n",
       "      <td>3.000000</td>\n",
       "      <td>0.000000</td>\n",
       "      <td>0.990973</td>\n",
       "      <td>0.000000</td>\n",
       "    </tr>\n",
       "    <tr>\n",
       "      <th>75%</th>\n",
       "      <td>20.608219</td>\n",
       "      <td>19.917913</td>\n",
       "      <td>0.167752</td>\n",
       "      <td>11.765462</td>\n",
       "      <td>19.744100</td>\n",
       "      <td>0.185475</td>\n",
       "      <td>0.891043</td>\n",
       "      <td>0.057932</td>\n",
       "      <td>6.200000</td>\n",
       "      <td>782.824844</td>\n",
       "      <td>1.860215</td>\n",
       "      <td>1.171276</td>\n",
       "      <td>1.726750</td>\n",
       "      <td>1.268000</td>\n",
       "      <td>1.395918</td>\n",
       "      <td>5.000000</td>\n",
       "      <td>0.000000</td>\n",
       "      <td>1.000000</td>\n",
       "      <td>1.000000</td>\n",
       "    </tr>\n",
       "    <tr>\n",
       "      <th>max</th>\n",
       "      <td>21.169477</td>\n",
       "      <td>21.312767</td>\n",
       "      <td>0.217133</td>\n",
       "      <td>7037.184570</td>\n",
       "      <td>21.160299</td>\n",
       "      <td>0.733300</td>\n",
       "      <td>321.040314</td>\n",
       "      <td>0.971744</td>\n",
       "      <td>118.790001</td>\n",
       "      <td>1507.777222</td>\n",
       "      <td>8.407010</td>\n",
       "      <td>116.662155</td>\n",
       "      <td>23.407000</td>\n",
       "      <td>15.154000</td>\n",
       "      <td>2.000000</td>\n",
       "      <td>13.000000</td>\n",
       "      <td>7.000000</td>\n",
       "      <td>1.000000</td>\n",
       "      <td>1.000000</td>\n",
       "    </tr>\n",
       "  </tbody>\n",
       "</table>\n",
       "</div>"
      ],
      "text/plain": [
       "        diffmaglim       magpsf     sigmapsf       chipsf        magap  \\\n",
       "count  3190.000000  3190.000000  3190.000000  3190.000000  3190.000000   \n",
       "mean     20.151915    19.038766     0.114721    29.171392    18.882236   \n",
       "std       0.600403     1.182225     0.059628   184.693580     1.146221   \n",
       "min      16.387886    11.861366     0.000729     0.145480    11.904000   \n",
       "25%      19.816405    18.404491     0.066442     1.752059    18.243625   \n",
       "50%      20.221339    19.230843     0.111248     3.588183    19.093750   \n",
       "75%      20.608219    19.917913     0.167752    11.765462    19.744100   \n",
       "max      21.169477    21.312767     0.217133  7037.184570    21.160299   \n",
       "\n",
       "          sigmagap          sky      magdiff         fwhm   mindtoedge  \\\n",
       "count  3190.000000  3190.000000  3190.000000  3190.000000  3190.000000   \n",
       "mean      0.133377     1.759273    -0.156530     5.762724   535.662895   \n",
       "std       0.090430    11.922192     0.361237     8.082798   358.128782   \n",
       "min       0.000900   -62.988770    -0.999049    -0.840000    10.071900   \n",
       "25%       0.062925    -0.078796    -0.387930     2.080000   233.525776   \n",
       "50%       0.121900     0.326771    -0.088569     3.170000   475.807602   \n",
       "75%       0.185475     0.891043     0.057932     6.200000   782.824844   \n",
       "max       0.733300   321.040314     0.971744   118.790001  1507.777222   \n",
       "\n",
       "        magfromlim     seeratio       aimage       bimage        elong  \\\n",
       "count  3190.000000  3190.000000  3190.000000  3190.000000  3190.000000   \n",
       "mean      1.269680   -19.033703     1.447092     1.121355     1.277802   \n",
       "std       1.056042   140.283975     1.359441     1.081769     0.233597   \n",
       "min      -0.689344  -999.000000     0.289000     0.256000     1.000000   \n",
       "25%       0.485384     0.392570     0.771250     0.667000     1.096764   \n",
       "50%       1.019777     0.794723     1.018000     0.841000     1.201702   \n",
       "75%       1.860215     1.171276     1.726750     1.268000     1.395918   \n",
       "max       8.407010   116.662155    23.407000    15.154000     2.000000   \n",
       "\n",
       "              nneg         nbad       sumrat        label  \n",
       "count  3190.000000  3190.000000  3190.000000  3190.000000  \n",
       "mean      3.702508     0.827586     0.942922     0.263636  \n",
       "std       2.640393     1.852272     0.093331     0.440673  \n",
       "min       0.000000     0.000000     0.400054     0.000000  \n",
       "25%       2.000000     0.000000     0.921823     0.000000  \n",
       "50%       3.000000     0.000000     0.990973     0.000000  \n",
       "75%       5.000000     0.000000     1.000000     1.000000  \n",
       "max      13.000000     7.000000     1.000000     1.000000  "
      ]
     },
     "execution_count": 3,
     "metadata": {},
     "output_type": "execute_result"
    }
   ],
   "source": [
    "meta_np = np.load(F_META)\n",
    "feats_np = np.load(F_FEATS)\n",
    "\n",
    "COL_NAMES = ['diffmaglim', 'magpsf', 'sigmapsf', 'chipsf', 'magap', 'sigmagap',\n",
    "             'distnr', 'magnr', 'sigmagnr', 'chinr', 'sharpnr', 'sky',\n",
    "             'magdiff', 'fwhm', 'classtar', 'mindtoedge', 'magfromlim', 'seeratio',\n",
    "             'aimage', 'bimage', 'aimagerat', 'bimagerat', 'elong', 'nneg',\n",
    "             'nbad', 'ssdistnr', 'ssmagnr', 'sumrat', 'magapbig', 'sigmagapbig',\n",
    "             'ndethist', 'ncovhist', 'jdstarthist', 'jdendhist', 'scorr', 'label']\n",
    "\n",
    "# NOTE FROM Umaa: I've decided to eliminate the following features. Dropping them.\n",
    "#\n",
    "COL_TO_DROP = ['ndethist', 'ncovhist', 'jdstarthist', 'jdendhist', \n",
    "               'distnr', 'magnr', 'sigmagnr', 'chinr', 'sharpnr', \n",
    "               'classtar', 'ssdistnr', 'ssmagnr', 'aimagerat', 'bimagerat', \n",
    "               'magapbig', 'sigmagapbig', 'scorr']\n",
    "feats_df = pd.DataFrame(data=feats_np, index=meta_np['candid'], columns=COL_NAMES)\n",
    "feats_df.drop(columns=COL_TO_DROP, inplace=True) \n",
    "print(\"There are {} columns left.\".format(len(feats_df.columns)))\n",
    "print(\"They are: {}\".format(list(feats_df.columns)))\n",
    "feats_df.describe()"
   ]
  },
  {
   "cell_type": "code",
   "execution_count": 9,
   "metadata": {},
   "outputs": [
    {
     "name": "stdout",
     "output_type": "stream",
     "text": [
      "\n",
      "Real: 841\n",
      "Bogus: 2349\n",
      "\n"
     ]
    }
   ],
   "source": [
    "# INSTRUCTION: How many real and bogus examples are in this labeled set\n",
    "#\n",
    "real = len(feats_df[feats_df.label==1])\n",
    "bogus = len(feats_df[feats_df['label']==0])\n",
    "print(\"\"\"\n",
    "Real: {}\n",
    "Bogus: {}\n",
    "\"\"\".format(real,bogus))"
   ]
  },
  {
   "cell_type": "markdown",
   "metadata": {},
   "source": [
    "## 2. Plot Features\n",
    "\n",
    "Examine each individual feature. You may use the subroutine below, or code of your own devising. Note the features that are continuous vs categorial, and those that have outliers.  There are certain features that have sentinel values.  You may wish to view some features on a log scale.\n",
    "\n",
    "#### Question: Which features seem to have pathologies? Which features should we exclude?"
   ]
  },
  {
   "cell_type": "code",
   "execution_count": 19,
   "metadata": {
    "scrolled": true
   },
   "outputs": [
    {
     "data": {
      "image/png": "[encoded data removed]",
      "text/plain": [
       "<matplotlib.figure.Figure at 0x11a2507b8>"
      ]
     },
     "metadata": {},
     "output_type": "display_data"
    },
    {
     "data": {
      "image/png": "[encoded data removed]",
      "text/plain": [
       "<matplotlib.figure.Figure at 0x11a240438>"
      ]
     },
     "metadata": {},
     "output_type": "display_data"
    },
    {
     "data": {
      "image/png": "[encoded data removed]",
      "text/plain": [
       "<matplotlib.figure.Figure at 0x11acec7b8>"
      ]
     },
     "metadata": {},
     "output_type": "display_data"
    },
    {
     "data": {
      "image/png": "[encoded data removed]",
      "text/plain": [
       "<matplotlib.figure.Figure at 0x11b0b42e8>"
      ]
     },
     "metadata": {},
     "output_type": "display_data"
    },
    {
     "data": {
      "image/png": "[encoded data removed]",
      "text/plain": [
       "<matplotlib.figure.Figure at 0x1173db898>"
      ]
     },
     "metadata": {},
     "output_type": "display_data"
    },
    {
     "data": {
      "image/png": "[encoded data removed]",
      "text/plain": [
       "<matplotlib.figure.Figure at 0x11add29b0>"
      ]
     },
     "metadata": {},
     "output_type": "display_data"
    },
    {
     "data": {
      "image/png": "[encoded data removed]",
      "text/plain": [
       "<matplotlib.figure.Figure at 0x117219dd8>"
      ]
     },
     "metadata": {},
     "output_type": "display_data"
    },
    {
     "data": {
      "image/png": "[encoded data removed]",
      "text/plain": [
       "<matplotlib.figure.Figure at 0x11a421128>"
      ]
     },
     "metadata": {},
     "output_type": "display_data"
    },
    {
     "data": {
      "image/png": "[encoded data removed]",
      "text/plain": [
       "<matplotlib.figure.Figure at 0x1178a98d0>"
      ]
     },
     "metadata": {},
     "output_type": "display_data"
    },
    {
     "data": {
      "image/png": "[encoded data removed]",
      "text/plain": [
       "<matplotlib.figure.Figure at 0x1179d3978>"
      ]
     },
     "metadata": {},
     "output_type": "display_data"
    },
    {
     "data": {
      "image/png": "[encoded data removed]",
      "text/plain": [
       "<matplotlib.figure.Figure at 0x1172bfef0>"
      ]
     },
     "metadata": {},
     "output_type": "display_data"
    },
    {
     "data": {
      "image/png": "[encoded data removed]",
      "text/plain": [
       "<matplotlib.figure.Figure at 0x11723deb8>"
      ]
     },
     "metadata": {},
     "output_type": "display_data"
    },
    {
     "data": {
      "image/png": "[encoded data removed]",
      "text/plain": [
       "<matplotlib.figure.Figure at 0x11a750a90>"
      ]
     },
     "metadata": {},
     "output_type": "display_data"
    },
    {
     "data": {
      "image/png": "[encoded data removed]",
      "text/plain": [
       "<matplotlib.figure.Figure at 0x11ac42a90>"
      ]
     },
     "metadata": {},
     "output_type": "display_data"
    },
    {
     "data": {
      "image/png": "[encoded data removed]",
      "text/plain": [
       "<matplotlib.figure.Figure at 0x116ee9a20>"
      ]
     },
     "metadata": {},
     "output_type": "display_data"
    },
    {
     "data": {
      "image/png": "[encoded data removed]",
      "text/plain": [
       "<matplotlib.figure.Figure at 0x11aa7aa58>"
      ]
     },
     "metadata": {},
     "output_type": "display_data"
    },
    {
     "data": {
      "image/png": "[encoded data removed]",
      "text/plain": [
       "<matplotlib.figure.Figure at 0x11a8905f8>"
      ]
     },
     "metadata": {},
     "output_type": "display_data"
    },
    {
     "data": {
      "image/png": "[encoded data removed]",
      "text/plain": [
       "<matplotlib.figure.Figure at 0x11a192f98>"
      ]
     },
     "metadata": {},
     "output_type": "display_data"
    },
    {
     "data": {
      "image/png": "[encoded data removed]",
      "text/plain": [
       "<matplotlib.figure.Figure at 0x117332fd0>"
      ]
     },
     "metadata": {},
     "output_type": "display_data"
    }
   ],
   "source": [
    "# Histogram a Single Feature\n",
    "#\n",
    "def plot_rb_hists(df, colname, bins=100, xscale='linear', yscale='linear'):\n",
    "    mask_real = feats_df['label'] == 1\n",
    "    mask_bogus = ~mask_real\n",
    "    plt.hist(df[colname][mask_real], bins, color='b', alpha=0.5, normed=True)\n",
    "    plt.hist(df[colname][mask_bogus], bins, color='r', alpha=0.5, normed=True)\n",
    "    plt.xscale(xscale)\n",
    "    plt.yscale(yscale)\n",
    "    plt.title(colname)\n",
    "    plt.show()\n",
    "\n",
    "# INSTRUCTION: Plot the individual features.  \n",
    "#\n",
    "for col in feats_df.columns:\n",
    "    plot_rb_hists(feats_df,col)"
   ]
  },
  {
   "cell_type": "code",
   "execution_count": 67,
   "metadata": {},
   "outputs": [],
   "source": [
    "exc_cols = ['label','nbad','seeratio']"
   ]
  },
  {
   "cell_type": "markdown",
   "metadata": {},
   "source": [
    "#### Answer: \n",
    "\n",
    "- 'nbad' and 'nneg' are discrete features\n",
    "- 'seeratio' has a sentinel value of -999\n",
    "- There are some features that have high ranges than others.  For classifiers that are sensitive to scaling, we will need to scale the data\n",
    "- There does not appear to be good separability between real and bogus on any individual features."
   ]
  },
  {
   "cell_type": "markdown",
   "metadata": {},
   "source": [
    "## 3. Curate a Test and Training Set\n",
    "\n",
    "We need to reserve some of our labeled data for evaluation. This means we must split up the labeled data we have into the set used for training (training set), and the set used for evaluation (test set). Ideally, the distribution of real and bogus examples in both the training and test sets are roughly identical. One can use sklearn.model_selection.train_test_split and use the stratify option.\n",
    "\n",
    "For ZTF data, we split the training and test data by date. That way repeat observations from the same night (which might be nearly identical) cannot be split into the training and test set, and artificially inflate test performance. Also, due to the change in survey objectives, it's possible that the test set features have drifted away from the training sets.\n",
    "\n",
    "Provided is nid.npy which contains the Night IDs for ZTF. Split on nid=550 (July 5, 2018). This should leave you with roughly 500 examples in your test set.\n"
   ]
  },
  {
   "cell_type": "code",
   "execution_count": 33,
   "metadata": {},
   "outputs": [],
   "source": [
    "from sklearn.model_selection import train_test_split"
   ]
  },
  {
   "cell_type": "code",
   "execution_count": 74,
   "metadata": {},
   "outputs": [],
   "source": [
    "feats_plus_label = np.array(feats_df)\n",
    "nids = meta_np['nid']\n",
    "\n",
    "# INSTRUCTION: nid.npy contains the nids for this labeled data.\n",
    "# Split the data into separate data structures for train/test data at nid=550.\n",
    "# Verify that you have at least 500 reals in your test set.\n",
    "train_df = feats_df[nids<=550]\n",
    "test_df = feats_df[nids>550]"
   ]
  },
  {
   "cell_type": "code",
   "execution_count": 60,
   "metadata": {},
   "outputs": [
    {
     "data": {
      "text/plain": [
       "604"
      ]
     },
     "execution_count": 60,
     "metadata": {},
     "output_type": "execute_result"
    }
   ],
   "source": [
    "len(test_df)"
   ]
  },
  {
   "cell_type": "code",
   "execution_count": 62,
   "metadata": {},
   "outputs": [
    {
     "data": {
      "text/plain": [
       "2586"
      ]
     },
     "execution_count": 62,
     "metadata": {},
     "output_type": "execute_result"
    }
   ],
   "source": [
    "len(train_df)"
   ]
  },
  {
   "cell_type": "markdown",
   "metadata": {},
   "source": [
    "## 4. Train a Classifier\n",
    "\n",
    "#### Part 1: Separate Labels from the Features\n",
    "\n",
    "Now store the labels separately from the features.  "
   ]
  },
  {
   "cell_type": "code",
   "execution_count": 75,
   "metadata": {},
   "outputs": [],
   "source": [
    "# INSTRUCTION: Separate the labels from the features\n",
    "y_train = train_df.label\n",
    "y_test = test_df.label\n",
    "X_train = train_df.drop(columns=exc_cols)\n",
    "X_test = test_df.drop(columns=exc_cols)"
   ]
  },
  {
   "cell_type": "code",
   "execution_count": 76,
   "metadata": {},
   "outputs": [
    {
     "data": {
      "text/plain": [
       "Index(['diffmaglim', 'magpsf', 'sigmapsf', 'chipsf', 'magap', 'sigmagap',\n",
       "       'sky', 'magdiff', 'fwhm', 'mindtoedge', 'magfromlim', 'aimage',\n",
       "       'bimage', 'elong', 'nneg', 'sumrat'],\n",
       "      dtype='object')"
      ]
     },
     "execution_count": 76,
     "metadata": {},
     "output_type": "execute_result"
    }
   ],
   "source": [
    "X_train.columns"
   ]
  },
  {
   "cell_type": "markdown",
   "metadata": {},
   "source": [
    "#### Part 2. Scaling Data\n",
    "\n",
    "With missing values handled, you're closing to training your classifiers.  However, because distance metrics can be sensitive to the scale of your data (e.g., some features span large numeric ranges, but others don't), it is important to normalize data within a standard range such as (0, 1) or with z-score normalization (scaling to unit mean and variance).  Fortunately, sklearn also makes this quite easy.  Please review sklearn's [preprocessing](http://scikit-learn.org/stable/modules/classes.html#module-sklearn.preprocessing) module options, specifically StandardScaler which corresponds to z-score normalization and MinMaxScaler.  Please implement one.  \n",
    "\n",
    "FYI - Neural networks and Support Vector Machines (SVM) are sensitive to the scale of the data.  Decision trees (and therefore Random Forests) are not (but it doesn't hurt to use scaled data)."
   ]
  },
  {
   "cell_type": "code",
   "execution_count": 78,
   "metadata": {},
   "outputs": [],
   "source": [
    "# INSTRUCTION: Re-scale your data using either the MinMaxScaler or StandardScaler from sklearn\n",
    "#\n",
    "scaler = StandardScaler()\n",
    "sccale_fit = scaler.fit(feats_df.drop(columns=exc_cols))\n",
    "X_train_scaled = scaler.transform(X_train)\n",
    "X_test_scaled = scaler.transform(X_test)"
   ]
  },
  {
   "cell_type": "markdown",
   "metadata": {},
   "source": [
    "#### Part 3. Train Classifiers\n",
    "\n",
    "Import a few classifiers and build models on your training data.  Some suggestions include a [Support Vector Machine](http://scikit-learn.org/stable/modules/generated/sklearn.svm.SVC.html#sklearn.svm.SVC), [Random Forest](http://scikit-learn.org/stable/modules/generated/sklearn.ensemble.RandomForestClassifier.html#sklearn.ensemble.RandomForestClassifier), [Neural Net](http://scikit-learn.org/stable/modules/generated/sklearn.neural_network.MLPClassifier.html#sklearn.neural_network.MLPClassifier), [NaiveBayes](http://scikit-learn.org/stable/modules/generated/sklearn.naive_bayes.GaussianNB.html#sklearn.naive_bayes.GaussianNB) and [K-Nearest Neighbor](http://scikit-learn.org/stable/modules/generated/sklearn.neighbors.KNeighborsClassifier.html#sklearn.neighbors.KNeighborsClassifier).  "
   ]
  },
  {
   "cell_type": "code",
   "execution_count": 92,
   "metadata": {},
   "outputs": [],
   "source": [
    "from sklearn.neural_network import MLPClassifier\n",
    "from sklearn.neighbors import KNeighborsClassifier\n",
    "from sklearn.svm import SVC\n",
    "from sklearn.tree import DecisionTreeClassifier\n",
    "from sklearn.ensemble import RandomForestClassifier\n",
    "from sklearn.naive_bayes import GaussianNB\n",
    "\n",
    "knn3 = KNeighborsClassifier(3)\n",
    "svml = SVC(kernel=\"linear\", C=0.025, probability=True)\n",
    "svmr = SVC(gamma=2, C=1, probability=True)\n",
    "dtre = DecisionTreeClassifier()\n",
    "rafo = RandomForestClassifier(n_estimators=100)\n",
    "nnet = MLPClassifier(alpha=1)\n",
    "naiv = GaussianNB()\n",
    "\n",
    "knn3_fit = knn3.fit(X_train,y_train)\n",
    "knn3_predict = knn3_fit.predict(X_test)\n",
    "svml_fit=svml.fit(X_train,y_train)\n",
    "svml_predict = svml_fit.predict(X_test)\n",
    "svmr_fit=svmr.fit(X_train,y_train)\n",
    "svmr_predict = svmr_fit.predict(X_test)\n",
    "dtre_fit=dtre.fit(X_train,y_train)\n",
    "dtre_predict = dtre_fit.predict(X_test)\n",
    "rafo_fit=rafo.fit(X_train,y_train)\n",
    "rafo_predict = rafo_fit.predict(X_test)\n",
    "nnet_fit=nnet.fit(X_train,y_train)\n",
    "nnet_predict = nnet_fit.predict(X_test)\n",
    "naiv_fit=naiv.fit(X_train,y_train)\n",
    "naiv_predict = naiv_fit.predict(X_test)\n"
   ]
  },
  {
   "cell_type": "code",
   "execution_count": 91,
   "metadata": {},
   "outputs": [],
   "source": [
    "from sklearn import metrics\n"
   ]
  },
  {
   "cell_type": "code",
   "execution_count": 114,
   "metadata": {},
   "outputs": [
    {
     "data": {
      "text/plain": [
       "[<matplotlib.lines.Line2D at 0x11a3ec320>]"
      ]
     },
     "execution_count": 114,
     "metadata": {},
     "output_type": "execute_result"
    },
    {
     "data": {
      "image/png": "[encoded data removed]",
      "text/plain": [
       "<matplotlib.figure.Figure at 0x11afc2c50>"
      ]
     },
     "metadata": {},
     "output_type": "display_data"
    }
   ],
   "source": [
    "knn3_fit = knn3.fit(X_train,y_train)\n",
    "knn3_predict = knn3_fit.predict(X_test)\n",
    "fpr, tpr, thresholds = metrics.roc_curve(y_test, knn3_predict)\n",
    "plt.plot(fpr, tpr, lw=1, alpha=0.3)"
   ]
  },
  {
   "cell_type": "code",
   "execution_count": 123,
   "metadata": {},
   "outputs": [
    {
     "name": "stdout",
     "output_type": "stream",
     "text": [
      "__________________________________________________________________________________\n",
      "init\t\taccuracy\tauc\tprecision\trecall\tf1_score\n",
      "__________________________________________________________________________________\n",
      "knn3     \t0.575\t\t0.559\t0.525\t\t0.425\t0.470\n",
      "svml     \t0.613\t\t0.600\t0.575\t\t0.485\t0.526\n"
     ]
    },
    {
     "name": "stderr",
     "output_type": "stream",
     "text": [
      "/Users/Dan/miniconda3/lib/python3.6/site-packages/sklearn/metrics/classification.py:1135: UndefinedMetricWarning: Precision is ill-defined and being set to 0.0 due to no predicted samples.\n",
      "  'precision', 'predicted', average, warn_for)\n",
      "/Users/Dan/miniconda3/lib/python3.6/site-packages/sklearn/metrics/classification.py:1135: UndefinedMetricWarning: F-score is ill-defined and being set to 0.0 due to no predicted samples.\n",
      "  'precision', 'predicted', average, warn_for)\n"
     ]
    },
    {
     "name": "stdout",
     "output_type": "stream",
     "text": [
      "svmr     \t0.556\t\t0.500\t0.000\t\t0.000\t0.000\n",
      "dtre     \t0.656\t\t0.663\t0.591\t\t0.728\t0.652\n",
      "rafo     \t0.728\t\t0.730\t0.676\t\t0.746\t0.709\n",
      "nnet     \t0.624\t\t0.631\t0.562\t\t0.690\t0.620\n",
      "naiv     \t0.526\t\t0.573\t0.483\t\t0.981\t0.648\n"
     ]
    }
   ],
   "source": [
    "# INSTRUCTION: Print out the following metrics per classifier into a table: accuracy, auc, f1_score, etc.\n",
    "#\n",
    "\n",
    "def bench_metrics(name, y_pred, y_test):\n",
    "    \n",
    "    print('%-9s\\t%.3f\\t\\t%.3f\\t%.3f\\t\\t%.3f\\t%.3f'\n",
    "          % (name,\n",
    "             metrics.accuracy_score(y_test,y_pred),\n",
    "             metrics.roc_auc_score(y_test,y_pred),\n",
    "             metrics.precision_score(y_test,y_pred),\n",
    "             metrics.recall_score(y_test,y_pred),\n",
    "             metrics.f1_score(y_test, y_pred),\n",
    "            ))\n",
    "\n",
    "print(82 * '_')\n",
    "print('init\\t\\taccuracy\\tauc\\tprecision\\trecall\\tf1_score')\n",
    "print(82 * '_')\n",
    "# INSTRUCTIONS: Use the bench_k_means method to compare your clustering results\n",
    "#\n",
    "\n",
    "for clf in clf_d:\n",
    "    name = clf\n",
    "    estimator = clf_d[clf]\n",
    "    fit = estimator.fit(X_train,y_train)\n",
    "    predict = fit.predict(X_test)\n",
    "    labels = y_test\n",
    "    bench_metrics(name,predict,labels)"
   ]
  },
  {
   "cell_type": "code",
   "execution_count": 97,
   "metadata": {},
   "outputs": [
    {
     "name": "stdout",
     "output_type": "stream",
     "text": [
      "knn3\n",
      "svml\n",
      "svmr\n",
      "dtre\n",
      "rafo\n",
      "nnet\n",
      "naiv\n"
     ]
    }
   ],
   "source": [
    "for clf in clf_d:\n",
    "    print(clf)"
   ]
  },
  {
   "cell_type": "code",
   "execution_count": 96,
   "metadata": {},
   "outputs": [
    {
     "name": "stdout",
     "output_type": "stream",
     "text": [
      "0.574503311258\n",
      "0.612582781457\n",
      "0.556291390728\n",
      "0.668874172185\n",
      "0.725165562914\n",
      "0.567880794702\n",
      "0.526490066225\n"
     ]
    }
   ],
   "source": [
    "clf_d = {'knn3':knn3,'svml':svml,'svmr':svmr,'dtre':dtre,'rafo':rafo,'nnet':nnet,'naiv':naiv}\n",
    "# INSTRUCTION: Train at least three classifiers and run on your test data. Here's an example to get your started.  \n",
    "# \n",
    "for clf in clfs:\n",
    "    fit = clf.fit(X_train,y_train)\n",
    "    score = fit.score(X_test,y_test)\n",
    "    print(score)"
   ]
  },
  {
   "cell_type": "markdown",
   "metadata": {},
   "source": [
    "#### Part 4. Plot Real and Bogus Score Distributions\n",
    "\n",
    "Another way to test performance is to plot a histogram of the test set RB scores, comparing the distributions of the labeled reals vs. boguses.  The scores of the reals should be close to 1, while the scores of the boguses should be closer to 0.  The more separated the distribution of scores, the better performing your classifier is.\n",
    "\n",
    "Compare the score distributions of the classifiers you've trained.  Trying displaying as a cumulative distribution rather than straight histogram.  \n",
    "\n",
    "*Optional:* What would the decision thresholds be at the  5% false negative rate (FNR)?  What would the decision threshold be at the 1% false positive rate?"
   ]
  },
  {
   "cell_type": "code",
   "execution_count": null,
   "metadata": {},
   "outputs": [],
   "source": [
    "# INSTRUCTION: create masks for the real and bogus examples of the test set\n",
    "\n",
    "\n",
    "# INSTRUCTION: First compare the classifiers' scores on the test reals only\n",
    "#\n",
    "\n",
    "scores_list = []\n",
    "legends = ['Classifier 1', 'Classifier 2', 'Classifier 3'] # REPLACE ME\n",
    "colors = ['g', 'b', 'r'] \n",
    "rbbins = np.arange(0,1,0.001)\n",
    "\n",
    "# Comparison on real examples\n",
    "\n",
    "plt.figure()\n",
    "ax = plt.subplot(111)\n",
    "for i, scores in enumerate(scores_list):\n",
    "    # ax.hist() - COMPLETE ME\n",
    "ax.set_xlabel('RB Score')\n",
    "ax.set_ylabel('Count')\n",
    "ax.set_xbound(0, 1)\n",
    "ax.legend(legends, loc=4)\n",
    "plt.show()\n",
    "\n",
    "\n",
    "# Now perform the same comparison on bogus examples\n",
    "#"
   ]
  },
  {
   "cell_type": "markdown",
   "metadata": {},
   "source": [
    "## Refining\n",
    "\n",
    "Now it's time to go back and start experimenting with different parameters.  If you have time, create a validation set and perform a Grid Search over a set of possible hyperparameters.  Compare different classifier results using the histograms above."
   ]
  }
 ],
 "metadata": {
  "kernelspec": {
   "display_name": "Python 3",
   "language": "python",
   "name": "python3"
  },
  "language_info": {
   "codemirror_mode": {
    "name": "ipython",
    "version": 3
   },
   "file_extension": ".py",
   "mimetype": "text/x-python",
   "name": "python",
   "nbconvert_exporter": "python",
   "pygments_lexer": "ipython3",
   "version": "3.6.1"
  }
 },
 "nbformat": 4,
 "nbformat_minor": 2
}
